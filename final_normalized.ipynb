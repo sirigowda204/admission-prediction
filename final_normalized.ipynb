{
 "cells": [
  {
   "cell_type": "code",
   "execution_count": 1,
   "metadata": {},
   "outputs": [
    {
     "name": "stderr",
     "output_type": "stream",
     "text": [
      "Matplotlib is building the font cache; this may take a moment.\n"
     ]
    }
   ],
   "source": [
    "from sklearn import preprocessing\n",
    "import numpy as np\n",
    "import pandas as pd\n",
    "import pylab\n",
    "# Get dataset\n",
    "data = pd.read_csv(r'/Users/sirigowda/Documents/Normalised Data/AnalysedData.csv')"
   ]
  },
  {
   "cell_type": "code",
   "execution_count": 3,
   "metadata": {},
   "outputs": [],
   "source": [
    "from sklearn.preprocessing import MinMaxScaler\n",
    "normaliser=MinMaxScaler()\n",
    "df=normaliser.fit_transform(data)"
   ]
  },
  {
   "cell_type": "code",
   "execution_count": 8,
   "metadata": {},
   "outputs": [
    {
     "name": "stdout",
     "output_type": "stream",
     "text": [
      "[[0.94       0.92857143 0.75       ... 0.91346154 1.         0.92063492]\n",
      " [0.68       0.53571429 0.75       ... 0.66346154 1.         0.66666667]\n",
      " [0.52       0.42857143 0.5        ... 0.38461538 1.         0.6031746 ]\n",
      " ...\n",
      " [0.8        1.         1.         ... 0.88461538 1.         0.93650794]\n",
      " [0.44       0.39285714 0.75       ... 0.5224359  0.         0.61904762]\n",
      " [0.74       0.75       0.75       ... 0.71794872 0.         0.79365079]]\n"
     ]
    }
   ],
   "source": [
    "print(df)"
   ]
  },
  {
   "cell_type": "code",
   "execution_count": null,
   "metadata": {},
   "outputs": [],
   "source": [
    "\n"
   ]
  },
  {
   "cell_type": "code",
   "execution_count": null,
   "metadata": {},
   "outputs": [],
   "source": []
  }
 ],
 "metadata": {
  "kernelspec": {
   "display_name": "Python 3",
   "language": "python",
   "name": "python3"
  },
  "language_info": {
   "codemirror_mode": {
    "name": "ipython",
    "version": 3
   },
   "file_extension": ".py",
   "mimetype": "text/x-python",
   "name": "python",
   "nbconvert_exporter": "python",
   "pygments_lexer": "ipython3",
   "version": "3.8.6"
  }
 },
 "nbformat": 4,
 "nbformat_minor": 4
}
