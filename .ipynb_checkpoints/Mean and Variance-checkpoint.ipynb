{
 "cells": [
  {
   "cell_type": "code",
   "execution_count": 2,
   "metadata": {},
   "outputs": [
    {
     "name": "stdout",
     "output_type": "stream",
     "text": [
      "     Serial No.  GRE Score  TOEFL Score  University Rating  SOP  LOR  CGPA  \\\n",
      "0             1        337          118                  4  4.5  4.5  9.65   \n",
      "1             2        324          107                  4  4.0  4.5  8.87   \n",
      "2             3        316          104                  3  3.0  3.5  8.00   \n",
      "3             4        322          110                  3  3.5  2.5  8.67   \n",
      "4             5        314          103                  2  2.0  3.0  8.21   \n",
      "..          ...        ...          ...                ...  ...  ...   ...   \n",
      "495         496        332          108                  5  4.5  4.0  9.02   \n",
      "496         497        337          117                  5  5.0  5.0  9.87   \n",
      "497         498        330          120                  5  4.5  5.0  9.56   \n",
      "498         499        312          103                  4  4.0  5.0  8.43   \n",
      "499         500        327          113                  4  4.5  4.5  9.04   \n",
      "\n",
      "     Research  Chance of Admit  \n",
      "0           1             0.92  \n",
      "1           1             0.76  \n",
      "2           1             0.72  \n",
      "3           1             0.80  \n",
      "4           0             0.65  \n",
      "..        ...              ...  \n",
      "495         1             0.87  \n",
      "496         1             0.96  \n",
      "497         1             0.93  \n",
      "498         0             0.73  \n",
      "499         0             0.84  \n",
      "\n",
      "[500 rows x 9 columns]\n"
     ]
    }
   ],
   "source": [
    "import pandas as pd\n",
    "df = pd.read_csv (r'/Users/sirigowda/Documents/project/analyseddata.csv')\n",
    "print (df)"
   ]
  },
  {
   "cell_type": "code",
   "execution_count": 5,
   "metadata": {},
   "outputs": [],
   "source": [
    "mean1 = df['GRE Score'].mean()\n",
    "var1 = df['GRE Score'].var()  \n",
    "mean2 = df['TOEFL Score'].mean()\n",
    "var2 = df['TOEFL Score'].var()  \n",
    "mean3 = df['University Rating'].mean()\n",
    "var3 = df['University Rating'].var()  \n",
    "mean4 = df['SOP'].mean()\n",
    "var4 = df['SOP'].var()  \n",
    "mean5 = df['LOR'].mean()\n",
    "var5 = df['LOR'].var()  \n",
    "mean6 = df['CGPA'].mean()\n",
    "var6 = df['CGPA'].var()  \n",
    "mean7 = df['Research'].mean()\n",
    "var7 = df['Research'].var()  \n",
    "mean8 = df['Chance of Admit'].mean()\n",
    "var8 = df['Chance of Admit'].var()  \n"
   ]
  },
  {
   "cell_type": "code",
   "execution_count": 8,
   "metadata": {},
   "outputs": [
    {
     "name": "stdout",
     "output_type": "stream",
     "text": [
      "Mean of GRE Score: 316.498\n",
      "Variance of GRE Score: 126.75951503006011\n",
      "Mean of TOEFL Score: 107.212\n",
      "Variance of TOEFL Score: 36.848753507014024\n",
      "Mean of University Rating: 3.112\n",
      "Variance of University Rating: 1.306068136272545\n",
      "Mean of SOP: 3.375\n",
      "Variance of SOP: 0.9818386773547094\n",
      "Mean of LOR: 3.487\n",
      "Variance of LOR: 0.8520350701402805\n",
      "Mean of CGPA: 8.57612\n",
      "Variance of CGPA: 0.3655764985971944\n",
      "Mean of Research: 0.562\n",
      "Variance of Research: 0.24664929859719442\n",
      "Mean of Chance of Admit: 0.72174\n",
      "Variance of Chance of Admit: 0.019920613627254505\n"
     ]
    }
   ],
   "source": [
    "print('Mean of GRE Score: '+str(mean1))\n",
    "print('Variance of GRE Score: '+str(var1))\n",
    "print('Mean of TOEFL Score: '+str(mean2))\n",
    "print('Variance of TOEFL Score: '+str(var2))\n",
    "print('Mean of University Rating: '+str(mean3))\n",
    "print('Variance of University Rating: '+str(var3))\n",
    "print('Mean of SOP: '+str(mean4))\n",
    "print('Variance of SOP: '+str(var4))\n",
    "print('Mean of LOR: '+str(mean5))\n",
    "print('Variance of LOR: '+str(var5))\n",
    "print('Mean of CGPA: '+str(mean6))\n",
    "print('Variance of CGPA: '+str(var6))\n",
    "print('Mean of Research: '+str(mean7))\n",
    "print('Variance of Research: '+str(var7))\n",
    "print('Mean of Chance of Admit: '+str(mean8))\n",
    "print('Variance of Chance of Admit: '+str(var8))\n"
   ]
  },
  {
   "cell_type": "code",
   "execution_count": null,
   "metadata": {},
   "outputs": [],
   "source": []
  }
 ],
 "metadata": {
  "kernelspec": {
   "display_name": "Python 3",
   "language": "python",
   "name": "python3"
  },
  "language_info": {
   "codemirror_mode": {
    "name": "ipython",
    "version": 3
   },
   "file_extension": ".py",
   "mimetype": "text/x-python",
   "name": "python",
   "nbconvert_exporter": "python",
   "pygments_lexer": "ipython3",
   "version": "3.8.6"
  }
 },
 "nbformat": 4,
 "nbformat_minor": 4
}
