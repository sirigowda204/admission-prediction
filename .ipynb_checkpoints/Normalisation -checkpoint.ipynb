{
 "cells": [
  {
   "cell_type": "code",
   "execution_count": 5,
   "metadata": {},
   "outputs": [],
   "source": [
    "from sklearn import preprocessing\n",
    "import numpy as np\n",
    "import pandas as pd\n",
    "# Get dataset\n",
    "df = pd.read_csv(r'/Users/sirigowda/Documents/project/analyseddata.csv')"
   ]
  },
  {
   "cell_type": "code",
   "execution_count": 6,
   "metadata": {},
   "outputs": [],
   "source": [
    "x_array1 = np.array(df['GRE Score'])\n",
    "normalized_X1 = preprocessing.normalize([x_array1])\n",
    "x_array2 = np.array(df['TOEFL Score'])\n",
    "normalized_X2 = preprocessing.normalize([x_array2])\n",
    "x_array3 = np.array(df['University Rating'])\n",
    "normalized_X3 = preprocessing.normalize([x_array3])\n",
    "x_array4 = np.array(df['SOP'])\n",
    "normalized_X4 = preprocessing.normalize([x_array4])\n",
    "x_array5 = np.array(df['LOR'])\n",
    "normalized_X5 = preprocessing.normalize([x_array5])\n",
    "x_array6 = np.array(df['CGPA'])\n",
    "normalized_X6 = preprocessing.normalize([x_array6])\n",
    "x_array7 = np.array(df['Research'])\n",
    "normalized_X7 = preprocessing.normalize([x_array7])\n",
    "x_array8 = np.array(df['Chance of Admit'])\n",
    "normalized_X8 = preprocessing.normalize([x_array8])\n"
   ]
  },
  {
   "cell_type": "code",
   "execution_count": null,
   "metadata": {},
   "outputs": [],
   "source": []
  }
 ],
 "metadata": {
  "kernelspec": {
   "display_name": "Python 3",
   "language": "python",
   "name": "python3"
  },
  "language_info": {
   "codemirror_mode": {
    "name": "ipython",
    "version": 3
   },
   "file_extension": ".py",
   "mimetype": "text/x-python",
   "name": "python",
   "nbconvert_exporter": "python",
   "pygments_lexer": "ipython3",
   "version": "3.8.6"
  }
 },
 "nbformat": 4,
 "nbformat_minor": 4
}
